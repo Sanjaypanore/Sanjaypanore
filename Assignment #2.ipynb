{
 "cells": [
  {
   "cell_type": "code",
   "execution_count": 1,
   "metadata": {},
   "outputs": [],
   "source": [
    "# employee data with key as id of the employee and values as age of the employee\n",
    "Employee_data ={101: 43, 102: 25, 103: 43, 104: 31, 105: 26, 106: 28, 107: 29, 108: 43, 109: 25, 110: 22, 111: 22, 112: 25, 113: 30, 115: 45, 116: 23, 117: 29, 118: 28, 119: 30, 120: 28, 121: 42, 122: 39, 123: 29, 124: 42, 125: 43, 126: 42, 127: 40, 128: 27, 129: 23, 130: 30, 131: 37, 132: 20, 133: 36, 134: 27, 135: 27, 136: 22, 137: 28, 138: 23, 139: 45, 140: 39, 141: 29, 142: 33, 143: 39, 145: 34, 146: 26, 147: 30, 148: 38, 149: 29, 150: 24, 151: 28, 152: 34, 153: 42, 154: 29, 155: 23, 156: 31, 158: 25, 160: 45, 161: 42, 162: 27, 163: 24, 164: 20, 166: 24, 167: 28, 168: 20, 169: 33, 170: 34, 171: 37, 172: 45, 173: 35, 174: 23, 175: 44, 176: 27, 177: 30, 178: 26, 179: 27} "
   ]
  },
  {
   "cell_type": "markdown",
   "metadata": {},
   "source": [
    "#### Identify the senior most employees age\n",
    "\n",
    "- 45\n",
    "- 44\n",
    "- 48\n",
    "- 42"
   ]
  },
  {
   "cell_type": "code",
   "execution_count": 2,
   "metadata": {},
   "outputs": [
    {
     "data": {
      "text/plain": [
       "45"
      ]
     },
     "execution_count": 2,
     "metadata": {},
     "output_type": "execute_result"
    }
   ],
   "source": [
    "# Type your code here\n",
    "max(Employee_data.values())"
   ]
  },
  {
   "cell_type": "markdown",
   "metadata": {},
   "source": [
    "#### Identify the age of the employee with employee id 159 [ If the employee isn't present return NA]\n",
    "\n",
    "- 25\n",
    "- 32\n",
    "- NA\n",
    "- 42"
   ]
  },
  {
   "cell_type": "code",
   "execution_count": 3,
   "metadata": {},
   "outputs": [
    {
     "name": "stdout",
     "output_type": "stream",
     "text": [
      "None\n"
     ]
    }
   ],
   "source": [
    "# Type your code here\n",
    "print (Employee_data.get(159))"
   ]
  },
  {
   "cell_type": "markdown",
   "metadata": {},
   "source": [
    "#### Count the total number of employee in the organization\n",
    "\n",
    "- 79\n",
    "- 78\n",
    "- 60\n",
    "- 74"
   ]
  },
  {
   "cell_type": "code",
   "execution_count": 4,
   "metadata": {},
   "outputs": [
    {
     "data": {
      "text/plain": [
       "74"
      ]
     },
     "execution_count": 4,
     "metadata": {},
     "output_type": "execute_result"
    }
   ],
   "source": [
    "# Type your code here\n",
    "len(Employee_data)"
   ]
  },
  {
   "cell_type": "markdown",
   "metadata": {},
   "source": [
    "#### Calculate the mean age of the employees\n",
    "\n",
    "- 31.36\n",
    "- 36.48\n",
    "- 28.77\n",
    "- 32.47"
   ]
  },
  {
   "cell_type": "code",
   "execution_count": 41,
   "metadata": {},
   "outputs": [
    {
     "name": "stdout",
     "output_type": "stream",
     "text": [
      "The average age is:-  0.589\n",
      "The average age is:-  0.932\n",
      "The average age is:-  1.521\n",
      "The average age is:-  1.89\n",
      "The average age is:-  2.247\n",
      "The average age is:-  2.63\n",
      "The average age is:-  3.027\n",
      "The average age is:-  3.616\n",
      "The average age is:-  3.959\n",
      "The average age is:-  4.26\n",
      "The average age is:-  4.562\n",
      "The average age is:-  4.904\n",
      "The average age is:-  5.315\n",
      "The average age is:-  5.932\n",
      "The average age is:-  6.247\n",
      "The average age is:-  6.644\n",
      "The average age is:-  7.027\n",
      "The average age is:-  7.438\n",
      "The average age is:-  7.822\n",
      "The average age is:-  8.397\n",
      "The average age is:-  8.932\n",
      "The average age is:-  9.329\n",
      "The average age is:-  9.904\n",
      "The average age is:-  10.493\n",
      "The average age is:-  11.068\n",
      "The average age is:-  11.616\n",
      "The average age is:-  11.986\n",
      "The average age is:-  12.301\n",
      "The average age is:-  12.712\n",
      "The average age is:-  13.219\n",
      "The average age is:-  13.493\n",
      "The average age is:-  13.986\n",
      "The average age is:-  14.356\n",
      "The average age is:-  14.726\n",
      "The average age is:-  15.027\n",
      "The average age is:-  15.411\n",
      "The average age is:-  15.726\n",
      "The average age is:-  16.342\n",
      "The average age is:-  16.712\n",
      "The average age is:-  17.11\n",
      "The average age is:-  17.562\n",
      "The average age is:-  18.027\n",
      "The average age is:-  18.384\n",
      "The average age is:-  18.795\n",
      "The average age is:-  19.315\n",
      "The average age is:-  19.712\n",
      "The average age is:-  20.041\n",
      "The average age is:-  20.425\n",
      "The average age is:-  20.89\n",
      "The average age is:-  21.466\n",
      "The average age is:-  21.863\n",
      "The average age is:-  22.178\n",
      "The average age is:-  22.603\n",
      "The average age is:-  22.945\n",
      "The average age is:-  23.562\n",
      "The average age is:-  24.137\n",
      "The average age is:-  24.507\n",
      "The average age is:-  24.836\n",
      "The average age is:-  25.205\n",
      "The average age is:-  25.534\n",
      "The average age is:-  25.918\n",
      "The average age is:-  26.192\n",
      "The average age is:-  26.644\n",
      "The average age is:-  27.11\n",
      "The average age is:-  27.616\n",
      "The average age is:-  28.233\n",
      "The average age is:-  28.712\n",
      "The average age is:-  29.027\n",
      "The average age is:-  29.63\n",
      "The average age is:-  30.0\n",
      "The average age is:-  30.411\n",
      "The average age is:-  30.767\n",
      "The average age is:-  31.137\n"
     ]
    }
   ],
   "source": [
    "# Type your code here\n",
    "sum = 0\n",
    "for i in Employee_data.values():\n",
    "    sum +=i\n",
    "    print(\"The average age is:- \", round (sum/len(Employee_data),3))\n",
    "    "
   ]
  },
  {
   "cell_type": "markdown",
   "metadata": {},
   "source": [
    "#### Perform the following two tasks and then calculate the updated mean age of the employees\n",
    "Task1 Update the ages of employee id - 104,140, and 164 as 27 <br>\n",
    "Task2 Remove the employ with employee id - 143 <br>\n",
    "\n",
    "- 30.71\n",
    "- 31.36\n",
    "- 30.13\n",
    "- 31.13\n"
   ]
  },
  {
   "cell_type": "code",
   "execution_count": 6,
   "metadata": {},
   "outputs": [
    {
     "data": {
      "text/plain": [
       "{101: 43,\n",
       " 102: 25,\n",
       " 103: 43,\n",
       " 104: 31,\n",
       " 105: 26,\n",
       " 106: 28,\n",
       " 107: 29,\n",
       " 108: 43,\n",
       " 109: 25,\n",
       " 110: 22,\n",
       " 111: 22,\n",
       " 112: 25,\n",
       " 113: 30,\n",
       " 115: 45,\n",
       " 116: 23,\n",
       " 117: 29,\n",
       " 118: 28,\n",
       " 119: 30,\n",
       " 120: 28,\n",
       " 121: 42,\n",
       " 122: 39,\n",
       " 123: 29,\n",
       " 124: 42,\n",
       " 125: 43,\n",
       " 126: 42,\n",
       " 127: 40,\n",
       " 128: 27,\n",
       " 129: 23,\n",
       " 130: 30,\n",
       " 131: 37,\n",
       " 132: 20,\n",
       " 133: 36,\n",
       " 134: 27,\n",
       " 135: 27,\n",
       " 136: 22,\n",
       " 137: 28,\n",
       " 138: 23,\n",
       " 139: 45,\n",
       " 140: 39,\n",
       " 141: 29,\n",
       " 142: 33,\n",
       " 143: 39,\n",
       " 145: 34,\n",
       " 146: 26,\n",
       " 147: 30,\n",
       " 148: 38,\n",
       " 149: 29,\n",
       " 150: 24,\n",
       " 151: 28,\n",
       " 152: 34,\n",
       " 153: 42,\n",
       " 154: 29,\n",
       " 155: 23,\n",
       " 156: 31,\n",
       " 158: 25,\n",
       " 160: 45,\n",
       " 161: 42,\n",
       " 162: 27,\n",
       " 163: 24,\n",
       " 164: 20,\n",
       " 166: 24,\n",
       " 167: 28,\n",
       " 168: 20,\n",
       " 169: 33,\n",
       " 170: 34,\n",
       " 171: 37,\n",
       " 172: 45,\n",
       " 173: 35,\n",
       " 174: 23,\n",
       " 175: 44,\n",
       " 176: 27,\n",
       " 177: 30,\n",
       " 178: 26,\n",
       " 179: 27}"
      ]
     },
     "execution_count": 6,
     "metadata": {},
     "output_type": "execute_result"
    }
   ],
   "source": [
    "# Type your code here\n",
    "Employee_data"
   ]
  },
  {
   "cell_type": "code",
   "execution_count": 17,
   "metadata": {},
   "outputs": [
    {
     "data": {
      "text/plain": [
       "{101: 43,\n",
       " 102: 25,\n",
       " 103: 43,\n",
       " 104: 27,\n",
       " 105: 26,\n",
       " 106: 28,\n",
       " 107: 29,\n",
       " 108: 43,\n",
       " 109: 25,\n",
       " 110: 22,\n",
       " 111: 22,\n",
       " 112: 25,\n",
       " 113: 30,\n",
       " 115: 45,\n",
       " 116: 23,\n",
       " 117: 29,\n",
       " 118: 28,\n",
       " 119: 30,\n",
       " 120: 28,\n",
       " 121: 42,\n",
       " 122: 39,\n",
       " 123: 29,\n",
       " 124: 42,\n",
       " 125: 43,\n",
       " 126: 42,\n",
       " 127: 40,\n",
       " 128: 27,\n",
       " 129: 23,\n",
       " 130: 30,\n",
       " 131: 37,\n",
       " 132: 20,\n",
       " 133: 36,\n",
       " 134: 27,\n",
       " 135: 27,\n",
       " 136: 22,\n",
       " 137: 28,\n",
       " 138: 23,\n",
       " 139: 45,\n",
       " 140: 27,\n",
       " 141: 29,\n",
       " 142: 33,\n",
       " 143: 39,\n",
       " 145: 34,\n",
       " 146: 26,\n",
       " 147: 30,\n",
       " 148: 38,\n",
       " 149: 29,\n",
       " 150: 24,\n",
       " 151: 28,\n",
       " 152: 34,\n",
       " 153: 42,\n",
       " 154: 29,\n",
       " 155: 23,\n",
       " 156: 31,\n",
       " 158: 25,\n",
       " 160: 45,\n",
       " 161: 42,\n",
       " 162: 27,\n",
       " 163: 24,\n",
       " 164: 27,\n",
       " 166: 24,\n",
       " 167: 28,\n",
       " 168: 20,\n",
       " 169: 33,\n",
       " 170: 34,\n",
       " 171: 37,\n",
       " 172: 45,\n",
       " 173: 35,\n",
       " 174: 23,\n",
       " 175: 44,\n",
       " 176: 27,\n",
       " 177: 30,\n",
       " 178: 26,\n",
       " 179: 27}"
      ]
     },
     "execution_count": 17,
     "metadata": {},
     "output_type": "execute_result"
    }
   ],
   "source": [
    "#Task1 Update the ages of employee id - 104,140, and 164 as 27 <br>\n",
    "new_data = {104:27,140:27,164:27}\n",
    "Employee_data.update(new_data)\n",
    "Employee_data"
   ]
  },
  {
   "cell_type": "code",
   "execution_count": 18,
   "metadata": {},
   "outputs": [
    {
     "data": {
      "text/plain": [
       "39"
      ]
     },
     "execution_count": 18,
     "metadata": {},
     "output_type": "execute_result"
    }
   ],
   "source": [
    "Employee_data.pop(143)"
   ]
  },
  {
   "cell_type": "code",
   "execution_count": 27,
   "metadata": {},
   "outputs": [
    {
     "name": "stdout",
     "output_type": "stream",
     "text": [
      "The average age is:-  0.59\n",
      "The average age is:-  0.93\n",
      "The average age is:-  1.52\n",
      "The average age is:-  1.89\n",
      "The average age is:-  2.25\n",
      "The average age is:-  2.63\n",
      "The average age is:-  3.03\n",
      "The average age is:-  3.62\n",
      "The average age is:-  3.96\n",
      "The average age is:-  4.26\n",
      "The average age is:-  4.56\n",
      "The average age is:-  4.9\n",
      "The average age is:-  5.32\n",
      "The average age is:-  5.93\n",
      "The average age is:-  6.25\n",
      "The average age is:-  6.64\n",
      "The average age is:-  7.03\n",
      "The average age is:-  7.44\n",
      "The average age is:-  7.82\n",
      "The average age is:-  8.4\n",
      "The average age is:-  8.93\n",
      "The average age is:-  9.33\n",
      "The average age is:-  9.9\n",
      "The average age is:-  10.49\n",
      "The average age is:-  11.07\n",
      "The average age is:-  11.62\n",
      "The average age is:-  11.99\n",
      "The average age is:-  12.3\n",
      "The average age is:-  12.71\n",
      "The average age is:-  13.22\n",
      "The average age is:-  13.49\n",
      "The average age is:-  13.99\n",
      "The average age is:-  14.36\n",
      "The average age is:-  14.73\n",
      "The average age is:-  15.03\n",
      "The average age is:-  15.41\n",
      "The average age is:-  15.73\n",
      "The average age is:-  16.34\n",
      "The average age is:-  16.71\n",
      "The average age is:-  17.11\n",
      "The average age is:-  17.56\n",
      "The average age is:-  18.03\n",
      "The average age is:-  18.38\n",
      "The average age is:-  18.79\n",
      "The average age is:-  19.32\n",
      "The average age is:-  19.71\n",
      "The average age is:-  20.04\n",
      "The average age is:-  20.42\n",
      "The average age is:-  20.89\n",
      "The average age is:-  21.47\n",
      "The average age is:-  21.86\n",
      "The average age is:-  22.18\n",
      "The average age is:-  22.6\n",
      "The average age is:-  22.95\n",
      "The average age is:-  23.56\n",
      "The average age is:-  24.14\n",
      "The average age is:-  24.51\n",
      "The average age is:-  24.84\n",
      "The average age is:-  25.21\n",
      "The average age is:-  25.53\n",
      "The average age is:-  25.92\n",
      "The average age is:-  26.19\n",
      "The average age is:-  26.64\n",
      "The average age is:-  27.11\n",
      "The average age is:-  27.62\n",
      "The average age is:-  28.23\n",
      "The average age is:-  28.71\n",
      "The average age is:-  29.03\n",
      "The average age is:-  29.63\n",
      "The average age is:-  30.0\n",
      "The average age is:-  30.41\n",
      "The average age is:-  30.77\n",
      "The average age is:-  31.14\n"
     ]
    }
   ],
   "source": [
    "#Average age after the modification to the data\n",
    "sum = 0\n",
    "for i in Employee_data.values():\n",
    "    sum +=i\n",
    "    print(\"The average age is:- \", round (sum/len(Employee_data),2))"
   ]
  }
 ],
 "metadata": {
  "kernelspec": {
   "display_name": "Python 3",
   "language": "python",
   "name": "python3"
  },
  "language_info": {
   "codemirror_mode": {
    "name": "ipython",
    "version": 3
   },
   "file_extension": ".py",
   "mimetype": "text/x-python",
   "name": "python",
   "nbconvert_exporter": "python",
   "pygments_lexer": "ipython3",
   "version": "3.8.8"
  }
 },
 "nbformat": 4,
 "nbformat_minor": 2
}
